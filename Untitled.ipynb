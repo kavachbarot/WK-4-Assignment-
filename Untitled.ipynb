{
 "cells": [
  {
   "cell_type": "code",
   "execution_count": 9,
   "id": "9638a440-1c52-45c2-a779-0f3760d19656",
   "metadata": {},
   "outputs": [
    {
     "name": "stdout",
     "output_type": "stream",
     "text": [
      "The square of 4 is 16\n"
     ]
    }
   ],
   "source": [
    "def square_number(number):\n",
    "    return number ** 2\n",
    " \n",
    "num = 4\n",
    "result = square_number(num)\n",
    "print(f\"The square of {num} is {result}\")      "
   ]
  },
  {
   "cell_type": "code",
   "execution_count": null,
   "id": "46f2a75e-8cd0-4640-a3f4-0834531f347c",
   "metadata": {},
   "outputs": [],
   "source": []
  }
 ],
 "metadata": {
  "kernelspec": {
   "display_name": "anaconda-ai-2024.04-py310",
   "language": "python",
   "name": "conda-env-anaconda-ai-2024.04-py310-py"
  },
  "language_info": {
   "codemirror_mode": {
    "name": "ipython",
    "version": 3
   },
   "file_extension": ".py",
   "mimetype": "text/x-python",
   "name": "python",
   "nbconvert_exporter": "python",
   "pygments_lexer": "ipython3",
   "version": "3.10.13"
  }
 },
 "nbformat": 4,
 "nbformat_minor": 5
}
